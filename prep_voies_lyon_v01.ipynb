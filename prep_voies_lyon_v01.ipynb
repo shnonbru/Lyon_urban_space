{
 "cells": [
  {
   "cell_type": "markdown",
   "metadata": {},
   "source": [
    "# Préparation des donnée\n",
    "    - un jeu de données avec les voies actuelles : \n",
    "    - un jeu de données avec les ancieennes voies :\n",
    "    - un jeu de données avec les voies suprimer :\n",
    "    - un jeu de données ou on aligne les voies historiques avec les voies actuelles :\n",
    "    - un jeu de données sur les thématiques normalisée :\n",
    "    - un jeu de données avec les personnes / les autres : "
   ]
  },
  {
   "cell_type": "code",
   "execution_count": 3,
   "metadata": {},
   "outputs": [],
   "source": [
    "# Importing the libraries | Importation des librairies \n",
    "import pandas as pd\n",
    "import numpy as np\n",
    "import regex as r"
   ]
  },
  {
   "cell_type": "code",
   "execution_count": 9,
   "metadata": {},
   "outputs": [],
   "source": [
    "# Importing the data | Importation des données\n",
    "data_voies_lyon = pd.read_table(\"/workspaces/Lyon_urban_space/data_archives_municipales_lyon/voieslyon_v01.csv\",sep=\";\",header=0)"
   ]
  },
  {
   "cell_type": "code",
   "execution_count": null,
   "metadata": {},
   "outputs": [],
   "source": [
    "# Jeu de données avec les voies actuelles :\n"
   ]
  }
 ],
 "metadata": {
  "kernelspec": {
   "display_name": "Python 3",
   "language": "python",
   "name": "python3"
  },
  "language_info": {
   "codemirror_mode": {
    "name": "ipython",
    "version": 3
   },
   "file_extension": ".py",
   "mimetype": "text/x-python",
   "name": "python",
   "nbconvert_exporter": "python",
   "pygments_lexer": "ipython3",
   "version": "3.10.13"
  }
 },
 "nbformat": 4,
 "nbformat_minor": 2
}
